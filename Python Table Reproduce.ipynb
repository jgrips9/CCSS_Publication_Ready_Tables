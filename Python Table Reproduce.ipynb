{
 "cells": [
  {
   "cell_type": "code",
   "execution_count": 1,
   "id": "0b2ac96c",
   "metadata": {},
   "outputs": [],
   "source": [
    "import pandas as pd\n",
    "import zentables as zen"
   ]
  },
  {
   "cell_type": "code",
   "execution_count": 2,
   "id": "c6f88b23",
   "metadata": {},
   "outputs": [],
   "source": [
    "url = (\n",
    "    \"https://raw.githubusercontent.com/thepolicylab\"\n",
    "    \"/ZenTables/main/tests/fixtures/superstore.csv?raw=true\"\n",
    ")\n",
    "super_store = pd.read_csv(url)"
   ]
  },
  {
   "cell_type": "code",
   "execution_count": 5,
   "id": "bea5b948",
   "metadata": {},
   "outputs": [
    {
     "data": {
      "text/html": [
       "<div>\n",
       "<style scoped>\n",
       "    .dataframe tbody tr th:only-of-type {\n",
       "        vertical-align: middle;\n",
       "    }\n",
       "\n",
       "    .dataframe tbody tr th {\n",
       "        vertical-align: top;\n",
       "    }\n",
       "\n",
       "    .dataframe thead th {\n",
       "        text-align: right;\n",
       "    }\n",
       "</style>\n",
       "<table border=\"1\" class=\"dataframe\">\n",
       "  <thead>\n",
       "    <tr style=\"text-align: right;\">\n",
       "      <th></th>\n",
       "      <th>Category</th>\n",
       "      <th>Furniture</th>\n",
       "      <th>Office Supplies</th>\n",
       "      <th>Technology</th>\n",
       "      <th>All</th>\n",
       "    </tr>\n",
       "    <tr>\n",
       "      <th>Segment</th>\n",
       "      <th>Region</th>\n",
       "      <th></th>\n",
       "      <th></th>\n",
       "      <th></th>\n",
       "      <th></th>\n",
       "    </tr>\n",
       "  </thead>\n",
       "  <tbody>\n",
       "    <tr>\n",
       "      <th rowspan=\"4\" valign=\"top\">Consumer</th>\n",
       "      <th>Central</th>\n",
       "      <td>255</td>\n",
       "      <td>739</td>\n",
       "      <td>218</td>\n",
       "      <td>1212</td>\n",
       "    </tr>\n",
       "    <tr>\n",
       "      <th>East</th>\n",
       "      <td>303</td>\n",
       "      <td>888</td>\n",
       "      <td>278</td>\n",
       "      <td>1469</td>\n",
       "    </tr>\n",
       "    <tr>\n",
       "      <th>South</th>\n",
       "      <td>180</td>\n",
       "      <td>505</td>\n",
       "      <td>153</td>\n",
       "      <td>838</td>\n",
       "    </tr>\n",
       "    <tr>\n",
       "      <th>West</th>\n",
       "      <td>375</td>\n",
       "      <td>995</td>\n",
       "      <td>302</td>\n",
       "      <td>1672</td>\n",
       "    </tr>\n",
       "    <tr>\n",
       "      <th rowspan=\"4\" valign=\"top\">Corporate</th>\n",
       "      <th>Central</th>\n",
       "      <td>137</td>\n",
       "      <td>417</td>\n",
       "      <td>119</td>\n",
       "      <td>673</td>\n",
       "    </tr>\n",
       "    <tr>\n",
       "      <th>East</th>\n",
       "      <td>198</td>\n",
       "      <td>520</td>\n",
       "      <td>159</td>\n",
       "      <td>877</td>\n",
       "    </tr>\n",
       "    <tr>\n",
       "      <th>South</th>\n",
       "      <td>101</td>\n",
       "      <td>324</td>\n",
       "      <td>85</td>\n",
       "      <td>510</td>\n",
       "    </tr>\n",
       "    <tr>\n",
       "      <th>West</th>\n",
       "      <td>210</td>\n",
       "      <td>559</td>\n",
       "      <td>191</td>\n",
       "      <td>960</td>\n",
       "    </tr>\n",
       "    <tr>\n",
       "      <th rowspan=\"4\" valign=\"top\">Home Office</th>\n",
       "      <th>Central</th>\n",
       "      <td>89</td>\n",
       "      <td>266</td>\n",
       "      <td>83</td>\n",
       "      <td>438</td>\n",
       "    </tr>\n",
       "    <tr>\n",
       "      <th>East</th>\n",
       "      <td>100</td>\n",
       "      <td>304</td>\n",
       "      <td>98</td>\n",
       "      <td>502</td>\n",
       "    </tr>\n",
       "    <tr>\n",
       "      <th>South</th>\n",
       "      <td>51</td>\n",
       "      <td>166</td>\n",
       "      <td>55</td>\n",
       "      <td>272</td>\n",
       "    </tr>\n",
       "    <tr>\n",
       "      <th>West</th>\n",
       "      <td>122</td>\n",
       "      <td>343</td>\n",
       "      <td>106</td>\n",
       "      <td>571</td>\n",
       "    </tr>\n",
       "    <tr>\n",
       "      <th>All</th>\n",
       "      <th></th>\n",
       "      <td>2121</td>\n",
       "      <td>6026</td>\n",
       "      <td>1847</td>\n",
       "      <td>9994</td>\n",
       "    </tr>\n",
       "  </tbody>\n",
       "</table>\n",
       "</div>"
      ],
      "text/plain": [
       "Category             Furniture  Office Supplies  Technology   All\n",
       "Segment     Region                                               \n",
       "Consumer    Central        255              739         218  1212\n",
       "            East           303              888         278  1469\n",
       "            South          180              505         153   838\n",
       "            West           375              995         302  1672\n",
       "Corporate   Central        137              417         119   673\n",
       "            East           198              520         159   877\n",
       "            South          101              324          85   510\n",
       "            West           210              559         191   960\n",
       "Home Office Central         89              266          83   438\n",
       "            East           100              304          98   502\n",
       "            South           51              166          55   272\n",
       "            West           122              343         106   571\n",
       "All                       2121             6026        1847  9994"
      ]
     },
     "execution_count": 5,
     "metadata": {},
     "output_type": "execute_result"
    }
   ],
   "source": [
    "df = super_store.pivot_table(\n",
    "    index=[\"Segment\", \"Region\"],\n",
    "    columns=[\"Category\"],\n",
    "    values=\"Order ID\",\n",
    "    aggfunc=\"count\",\n",
    "    margins=True\n",
    ")\n",
    "df"
   ]
  },
  {
   "cell_type": "code",
   "execution_count": 9,
   "id": "69878b53",
   "metadata": {},
   "outputs": [
    {
     "name": "stdout",
     "output_type": "stream",
     "text": [
      "       a     b     c    d\n",
      "row_1  1  2222    30  500\n",
      "row_2  4    55  6777    1\n",
      "-  ----  ----  ---\n",
      "1  2222    30  500\n",
      "4    55  6777    1\n",
      "-  ----  ----  ---\n"
     ]
    }
   ],
   "source": [
    "table = [[1, 2222, 30, 500], [4, 55, 6777, 1]]\n",
    "import pandas as pd\n",
    "table = [[1, 2222, 30, 500], [4, 55, 6777, 1]]\n",
    "df = pd.DataFrame(table, columns = ['a', 'b', 'c', 'd'], index=['row_1', 'row_2'])\n",
    "print(df)\n",
    "from tabulate import tabulate\n",
    "table = [[1, 2222, 30, 500], [4, 55, 6777, 1]]\n",
    "print(tabulate(table))"
   ]
  },
  {
   "cell_type": "code",
   "execution_count": 10,
   "id": "5db0aa12",
   "metadata": {},
   "outputs": [
    {
     "name": "stdout",
     "output_type": "stream",
     "text": [
      "╒═════════╤═════════╤═════════╤═════════╕\n",
      "│   col 1 │   col 2 │   col 3 │   col 4 │\n",
      "╞═════════╪═════════╪═════════╪═════════╡\n",
      "│       1 │    2222 │      30 │     500 │\n",
      "├─────────┼─────────┼─────────┼─────────┤\n",
      "│       4 │      55 │    6777 │       1 │\n",
      "╘═════════╧═════════╧═════════╧═════════╛\n"
     ]
    }
   ],
   "source": [
    "table = [['col 1', 'col 2', 'col 3', 'col 4'], [1, 2222, 30, 500], [4, 55, 6777, 1]]\n",
    "print(tabulate(table, headers='firstrow', tablefmt='fancy_grid'))"
   ]
  },
  {
   "cell_type": "code",
   "execution_count": 17,
   "id": "342a5414",
   "metadata": {},
   "outputs": [],
   "source": [
    "#More tabulate\n",
    "from tabulate import tabulate"
   ]
  },
  {
   "cell_type": "code",
   "execution_count": 18,
   "id": "70578a02",
   "metadata": {},
   "outputs": [
    {
     "name": "stdout",
     "output_type": "stream",
     "text": [
      "Player         Team\n",
      "-------------  ---------------------\n",
      "LeBron James   Los Angeles Lakers\n",
      "Kevin Durant   Brooklyn Nets\n",
      "Stephen Curry  Golden State Warriors\n"
     ]
    }
   ],
   "source": [
    "nba_players = [['LeBron James',' Los Angeles Lakers'], ['Kevin Durant', 'Brooklyn Nets'], ['Stephen Curry', 'Golden State Warriors']]\n",
    "print(tabulate(nba_players,headers =['Player','Team']))"
   ]
  },
  {
   "cell_type": "code",
   "execution_count": 19,
   "id": "d176816d",
   "metadata": {},
   "outputs": [
    {
     "name": "stdout",
     "output_type": "stream",
     "text": [
      "╒═══════════════╤═══════════════════════╕\n",
      "│ Player        │ Team                  │\n",
      "╞═══════════════╪═══════════════════════╡\n",
      "│ LeBron James  │ Los Angeles Lakers    │\n",
      "├───────────────┼───────────────────────┤\n",
      "│ Kevin Durant  │ Brooklyn Nets         │\n",
      "├───────────────┼───────────────────────┤\n",
      "│ Stephen Curry │ Golden State Warriors │\n",
      "╘═══════════════╧═══════════════════════╛\n"
     ]
    }
   ],
   "source": [
    "print(tabulate(nba_players,headers =['Player','Team'],tablefmt = 'fancy_grid'))"
   ]
  },
  {
   "cell_type": "code",
   "execution_count": 20,
   "id": "ae40c09d",
   "metadata": {},
   "outputs": [
    {
     "name": "stdout",
     "output_type": "stream",
     "text": [
      "╒═══════════════╤═══════════════════════╕\n",
      "│    Player     │         Team          │\n",
      "╞═══════════════╪═══════════════════════╡\n",
      "│ LeBron James  │  Los Angeles Lakers   │\n",
      "├───────────────┼───────────────────────┤\n",
      "│ Kevin Durant  │     Brooklyn Nets     │\n",
      "├───────────────┼───────────────────────┤\n",
      "│ Stephen Curry │ Golden State Warriors │\n",
      "╘═══════════════╧═══════════════════════╛\n"
     ]
    }
   ],
   "source": [
    "print(tabulate(nba_players,headers =['Player','Team'],tablefmt = 'fancy_grid',stralign='center'))"
   ]
  },
  {
   "cell_type": "code",
   "execution_count": 12,
   "id": "e3548fd3",
   "metadata": {},
   "outputs": [
    {
     "name": "stdout",
     "output_type": "stream",
     "text": [
      "+-------+-------+-------+-------+-------+\n",
      "| col 1 | col 2 | col 3 | col 4 | col 5 |\n",
      "+-------+-------+-------+-------+-------+\n",
      "|   1   |  2222 |   30  |  500  |  -123 |\n",
      "|   4   |   55  |  6777 |   1   |    43 |\n",
      "+-------+-------+-------+-------+-------+\n"
     ]
    }
   ],
   "source": [
    "from prettytable import PrettyTable\n",
    "table = [['col 1', 'col 2', 'col 3', 'col 4'], [1, 2222, 30, 500], [4, 55, 6777, 1]]\n",
    "tab = PrettyTable(table[0])\n",
    "tab.add_rows(table[1:])\n",
    "tab.add_column('col 5', [-123, 43], align='r', valign='t')\n",
    "print(tab)"
   ]
  },
  {
   "cell_type": "code",
   "execution_count": 14,
   "id": "356d229a",
   "metadata": {},
   "outputs": [],
   "source": [
    "from prettytable import PrettyTable"
   ]
  },
  {
   "cell_type": "code",
   "execution_count": 15,
   "id": "63eceebc",
   "metadata": {},
   "outputs": [
    {
     "name": "stdout",
     "output_type": "stream",
     "text": [
      "+-------+-----+\n",
      "|  Name | Age |\n",
      "+-------+-----+\n",
      "| Alice |  24 |\n",
      "|  Bob  |  19 |\n",
      "+-------+-----+\n"
     ]
    }
   ],
   "source": [
    "t = PrettyTable(['Name', 'Age'])\n",
    "t.add_row(['Alice', 24])\n",
    "t.add_row(['Bob', 19])\n",
    "print(t)"
   ]
  },
  {
   "cell_type": "code",
   "execution_count": 16,
   "id": "9ed8e9d4",
   "metadata": {},
   "outputs": [
    {
     "name": "stdout",
     "output_type": "stream",
     "text": [
      "+-------+-----+\n",
      "| Name  | Age |\n",
      "+=======+=====+\n",
      "| Alice | 24  |\n",
      "+-------+-----+\n",
      "| Bob   | 19  |\n",
      "+-------+-----+\n"
     ]
    }
   ],
   "source": [
    "from texttable import Texttable\n",
    "t = Texttable()\n",
    "t.add_rows([['Name', 'Age'], ['Alice', 24], ['Bob', 19]])\n",
    "print(t.draw())"
   ]
  },
  {
   "cell_type": "code",
   "execution_count": null,
   "id": "3d9ad312",
   "metadata": {},
   "outputs": [],
   "source": []
  }
 ],
 "metadata": {
  "kernelspec": {
   "display_name": "Python 3 (ipykernel)",
   "language": "python",
   "name": "python3"
  },
  "language_info": {
   "codemirror_mode": {
    "name": "ipython",
    "version": 3
   },
   "file_extension": ".py",
   "mimetype": "text/x-python",
   "name": "python",
   "nbconvert_exporter": "python",
   "pygments_lexer": "ipython3",
   "version": "3.9.7"
  }
 },
 "nbformat": 4,
 "nbformat_minor": 5
}
